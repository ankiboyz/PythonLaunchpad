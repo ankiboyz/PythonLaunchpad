{
  "nbformat": 4,
  "nbformat_minor": 0,
  "metadata": {
    "colab": {
      "name": "SortingAlgorithms.ipynb",
      "provenance": [],
      "collapsed_sections": [],
      "authorship_tag": "ABX9TyMmaNpAdLCuCRDYznGHtvm5",
      "include_colab_link": true
    },
    "kernelspec": {
      "name": "python3",
      "display_name": "Python 3"
    },
    "language_info": {
      "name": "python"
    }
  },
  "cells": [
    {
      "cell_type": "markdown",
      "metadata": {
        "id": "view-in-github",
        "colab_type": "text"
      },
      "source": [
        "<a href=\"https://colab.research.google.com/github/ankiboyz/PythonLaunchpad/blob/main/Sorting%20Algorithms/SortingAlgorithms.ipynb\" target=\"_parent\"><img src=\"https://colab.research.google.com/assets/colab-badge.svg\" alt=\"Open In Colab\"/></a>"
      ]
    },
    {
      "cell_type": "markdown",
      "source": [
        "# Sorting Algorithms\n",
        "\n",
        "This is a repository of different problems on the Sorting Algorithms."
      ],
      "metadata": {
        "id": "_XSragyP2BNR"
      }
    },
    {
      "cell_type": "markdown",
      "source": [
        "## Bubble Sort\n",
        "This section deals with the Bubble Sort Algorithm."
      ],
      "metadata": {
        "id": "zfcZvmJP2LzI"
      }
    },
    {
      "cell_type": "markdown",
      "source": [
        "### Bubble Sort algorithm and its implementation."
      ],
      "metadata": {
        "id": "NsoYGCM72arI"
      }
    },
    {
      "cell_type": "markdown",
      "source": [
        "#### **This is the link to the explanation of Bubble Sort Algorithm and related code."
      ],
      "metadata": {
        "id": "83VBV3Pg2lcn"
      }
    },
    {
      "cell_type": "code",
      "execution_count": null,
      "metadata": {
        "id": "czlQuE-R2AMO"
      },
      "outputs": [],
      "source": [
        "# Code implemented in Python for Bubble Sort Algorithm\n",
        "\n",
        "def bubble_sort_impl(X):\n",
        "\n",
        "  # initializing the needed variables\n",
        "  was_swapped = False\n",
        "  n = len(X)\n",
        "\n",
        "  for i in range(n):\n",
        "    was_swapped = False       # flag for optimization, anytime if the inner loop runs in full without any swapping that means the array is sorted.\n",
        "\n",
        "    for j in range(n-i-1):\n",
        "      \n",
        "      print(f\"Bubble Sort outer loop {i} and inner loop {j}, comparison {X[j]} > {X[j+1]} \")\n",
        "\n",
        "      # Last i elements are already in place\n",
        "      # Swap the elements if found greater than the next element\n",
        "      if X[j] > X[j+1]:\n",
        "        X[j], X[j+1] = X[j+1], X[j]\n",
        "        was_swapped = True    \n",
        "\n",
        "        print(f\"elements at position {j} , {j+1} swapped --> {X[j]} , {X[j+1]} --> list modified to {X}\")\n",
        "\n",
        "    # If at the end of an iteration of the inner loop, no swapping was done that means list has been sorted.\n",
        "    if  was_swapped == False:\n",
        "      break\n",
        "\n",
        "  return X      # sorted list."
      ]
    },
    {
      "cell_type": "code",
      "source": [
        "# Test cases:\n",
        "test_case_dict = {'1':{'ip' : [[20, 10, 40, 30, 50, 60, 70]]\n",
        "                      ,'op' : [10, 20, 30, 40, 50, 60, 70]\n",
        "                       }                  \n",
        "                 ,'2':{'ip' : [[10, 20, 40, 30, 50, 60, 70]]\n",
        "                       ,'op': [10, 20, 30, 40, 50, 60, 70]\n",
        "                       }\n",
        "                 ,'3':{'ip' : [[70, 60, 50, 40, 30, 20, 10]]\n",
        "                       ,'op': [10, 20, 30, 40, 50, 60, 70]\n",
        "                       }\n",
        "                 ,'4':{'ip' : [[20, 10]]\n",
        "                       ,'op': [10, 20]\n",
        "                       }\n",
        "                ,'5':{'ip' : [[20, 10, 20, 30]]\n",
        "                       ,'op': [10, 20, 20, 30]\n",
        "                       }\n",
        "                ,'6':{'ip' : [[10, 20, 30, 40]]\n",
        "                       ,'op': [10, 20, 30, 40]\n",
        "                       ,'descr':'This test case showcases for the already sorted list, the algorithm deduced in the first iteration itself'\n",
        "                       }\n",
        "                  }\n",
        "for key, value in test_case_dict.items():\n",
        "\n",
        "  print(f\"Executing Test Case {key} Input: {value['ip'][0]}\")\n",
        "  sorted_list = bubble_sort_impl(value['ip'][0])\n",
        "  assert sorted_list == value['op'], f\"The test case# {key} has failed.\"\n",
        "  print(f\"Sorted List {sorted_list}\")\n",
        "  print(\"\\n\")\n",
        "\n",
        "print(f\"All {len(test_case_dict)} test cases have passed ...\")"
      ],
      "metadata": {
        "colab": {
          "base_uri": "https://localhost:8080/"
        },
        "id": "0zr8ZIsV7Dtx",
        "outputId": "2f6d4c5c-a415-41cd-a351-564c95b83da8"
      },
      "execution_count": null,
      "outputs": [
        {
          "output_type": "stream",
          "name": "stdout",
          "text": [
            "Executing Test Case 1 Input: [20, 10, 40, 30, 50, 60, 70]\n",
            "Bubble Sort outer loop 0 and inner loop 0, comparison 20 > 10 \n",
            "elements at position 0 , 1 swapped --> 10 , 20 --> list modified to [10, 20, 40, 30, 50, 60, 70]\n",
            "Bubble Sort outer loop 0 and inner loop 1, comparison 20 > 40 \n",
            "Bubble Sort outer loop 0 and inner loop 2, comparison 40 > 30 \n",
            "elements at position 2 , 3 swapped --> 30 , 40 --> list modified to [10, 20, 30, 40, 50, 60, 70]\n",
            "Bubble Sort outer loop 0 and inner loop 3, comparison 40 > 50 \n",
            "Bubble Sort outer loop 0 and inner loop 4, comparison 50 > 60 \n",
            "Bubble Sort outer loop 0 and inner loop 5, comparison 60 > 70 \n",
            "Bubble Sort outer loop 1 and inner loop 0, comparison 10 > 20 \n",
            "Bubble Sort outer loop 1 and inner loop 1, comparison 20 > 30 \n",
            "Bubble Sort outer loop 1 and inner loop 2, comparison 30 > 40 \n",
            "Bubble Sort outer loop 1 and inner loop 3, comparison 40 > 50 \n",
            "Bubble Sort outer loop 1 and inner loop 4, comparison 50 > 60 \n",
            "Sorted List [10, 20, 30, 40, 50, 60, 70]\n",
            "\n",
            "\n",
            "Executing Test Case 2 Input: [10, 20, 40, 30, 50, 60, 70]\n",
            "Bubble Sort outer loop 0 and inner loop 0, comparison 10 > 20 \n",
            "Bubble Sort outer loop 0 and inner loop 1, comparison 20 > 40 \n",
            "Bubble Sort outer loop 0 and inner loop 2, comparison 40 > 30 \n",
            "elements at position 2 , 3 swapped --> 30 , 40 --> list modified to [10, 20, 30, 40, 50, 60, 70]\n",
            "Bubble Sort outer loop 0 and inner loop 3, comparison 40 > 50 \n",
            "Bubble Sort outer loop 0 and inner loop 4, comparison 50 > 60 \n",
            "Bubble Sort outer loop 0 and inner loop 5, comparison 60 > 70 \n",
            "Bubble Sort outer loop 1 and inner loop 0, comparison 10 > 20 \n",
            "Bubble Sort outer loop 1 and inner loop 1, comparison 20 > 30 \n",
            "Bubble Sort outer loop 1 and inner loop 2, comparison 30 > 40 \n",
            "Bubble Sort outer loop 1 and inner loop 3, comparison 40 > 50 \n",
            "Bubble Sort outer loop 1 and inner loop 4, comparison 50 > 60 \n",
            "Sorted List [10, 20, 30, 40, 50, 60, 70]\n",
            "\n",
            "\n",
            "Executing Test Case 3 Input: [70, 60, 50, 40, 30, 20, 10]\n",
            "Bubble Sort outer loop 0 and inner loop 0, comparison 70 > 60 \n",
            "elements at position 0 , 1 swapped --> 60 , 70 --> list modified to [60, 70, 50, 40, 30, 20, 10]\n",
            "Bubble Sort outer loop 0 and inner loop 1, comparison 70 > 50 \n",
            "elements at position 1 , 2 swapped --> 50 , 70 --> list modified to [60, 50, 70, 40, 30, 20, 10]\n",
            "Bubble Sort outer loop 0 and inner loop 2, comparison 70 > 40 \n",
            "elements at position 2 , 3 swapped --> 40 , 70 --> list modified to [60, 50, 40, 70, 30, 20, 10]\n",
            "Bubble Sort outer loop 0 and inner loop 3, comparison 70 > 30 \n",
            "elements at position 3 , 4 swapped --> 30 , 70 --> list modified to [60, 50, 40, 30, 70, 20, 10]\n",
            "Bubble Sort outer loop 0 and inner loop 4, comparison 70 > 20 \n",
            "elements at position 4 , 5 swapped --> 20 , 70 --> list modified to [60, 50, 40, 30, 20, 70, 10]\n",
            "Bubble Sort outer loop 0 and inner loop 5, comparison 70 > 10 \n",
            "elements at position 5 , 6 swapped --> 10 , 70 --> list modified to [60, 50, 40, 30, 20, 10, 70]\n",
            "Bubble Sort outer loop 1 and inner loop 0, comparison 60 > 50 \n",
            "elements at position 0 , 1 swapped --> 50 , 60 --> list modified to [50, 60, 40, 30, 20, 10, 70]\n",
            "Bubble Sort outer loop 1 and inner loop 1, comparison 60 > 40 \n",
            "elements at position 1 , 2 swapped --> 40 , 60 --> list modified to [50, 40, 60, 30, 20, 10, 70]\n",
            "Bubble Sort outer loop 1 and inner loop 2, comparison 60 > 30 \n",
            "elements at position 2 , 3 swapped --> 30 , 60 --> list modified to [50, 40, 30, 60, 20, 10, 70]\n",
            "Bubble Sort outer loop 1 and inner loop 3, comparison 60 > 20 \n",
            "elements at position 3 , 4 swapped --> 20 , 60 --> list modified to [50, 40, 30, 20, 60, 10, 70]\n",
            "Bubble Sort outer loop 1 and inner loop 4, comparison 60 > 10 \n",
            "elements at position 4 , 5 swapped --> 10 , 60 --> list modified to [50, 40, 30, 20, 10, 60, 70]\n",
            "Bubble Sort outer loop 2 and inner loop 0, comparison 50 > 40 \n",
            "elements at position 0 , 1 swapped --> 40 , 50 --> list modified to [40, 50, 30, 20, 10, 60, 70]\n",
            "Bubble Sort outer loop 2 and inner loop 1, comparison 50 > 30 \n",
            "elements at position 1 , 2 swapped --> 30 , 50 --> list modified to [40, 30, 50, 20, 10, 60, 70]\n",
            "Bubble Sort outer loop 2 and inner loop 2, comparison 50 > 20 \n",
            "elements at position 2 , 3 swapped --> 20 , 50 --> list modified to [40, 30, 20, 50, 10, 60, 70]\n",
            "Bubble Sort outer loop 2 and inner loop 3, comparison 50 > 10 \n",
            "elements at position 3 , 4 swapped --> 10 , 50 --> list modified to [40, 30, 20, 10, 50, 60, 70]\n",
            "Bubble Sort outer loop 3 and inner loop 0, comparison 40 > 30 \n",
            "elements at position 0 , 1 swapped --> 30 , 40 --> list modified to [30, 40, 20, 10, 50, 60, 70]\n",
            "Bubble Sort outer loop 3 and inner loop 1, comparison 40 > 20 \n",
            "elements at position 1 , 2 swapped --> 20 , 40 --> list modified to [30, 20, 40, 10, 50, 60, 70]\n",
            "Bubble Sort outer loop 3 and inner loop 2, comparison 40 > 10 \n",
            "elements at position 2 , 3 swapped --> 10 , 40 --> list modified to [30, 20, 10, 40, 50, 60, 70]\n",
            "Bubble Sort outer loop 4 and inner loop 0, comparison 30 > 20 \n",
            "elements at position 0 , 1 swapped --> 20 , 30 --> list modified to [20, 30, 10, 40, 50, 60, 70]\n",
            "Bubble Sort outer loop 4 and inner loop 1, comparison 30 > 10 \n",
            "elements at position 1 , 2 swapped --> 10 , 30 --> list modified to [20, 10, 30, 40, 50, 60, 70]\n",
            "Bubble Sort outer loop 5 and inner loop 0, comparison 20 > 10 \n",
            "elements at position 0 , 1 swapped --> 10 , 20 --> list modified to [10, 20, 30, 40, 50, 60, 70]\n",
            "Sorted List [10, 20, 30, 40, 50, 60, 70]\n",
            "\n",
            "\n",
            "Executing Test Case 4 Input: [20, 10]\n",
            "Bubble Sort outer loop 0 and inner loop 0, comparison 20 > 10 \n",
            "elements at position 0 , 1 swapped --> 10 , 20 --> list modified to [10, 20]\n",
            "Sorted List [10, 20]\n",
            "\n",
            "\n",
            "Executing Test Case 5 Input: [20, 10, 20, 30]\n",
            "Bubble Sort outer loop 0 and inner loop 0, comparison 20 > 10 \n",
            "elements at position 0 , 1 swapped --> 10 , 20 --> list modified to [10, 20, 20, 30]\n",
            "Bubble Sort outer loop 0 and inner loop 1, comparison 20 > 20 \n",
            "Bubble Sort outer loop 0 and inner loop 2, comparison 20 > 30 \n",
            "Bubble Sort outer loop 1 and inner loop 0, comparison 10 > 20 \n",
            "Bubble Sort outer loop 1 and inner loop 1, comparison 20 > 20 \n",
            "Sorted List [10, 20, 20, 30]\n",
            "\n",
            "\n",
            "Executing Test Case 6 Input: [10, 20, 30, 40]\n",
            "Bubble Sort outer loop 0 and inner loop 0, comparison 10 > 20 \n",
            "Bubble Sort outer loop 0 and inner loop 1, comparison 20 > 30 \n",
            "Bubble Sort outer loop 0 and inner loop 2, comparison 30 > 40 \n",
            "Sorted List [10, 20, 30, 40]\n",
            "\n",
            "\n",
            "All 6 test cases have passed ...\n"
          ]
        }
      ]
    },
    {
      "cell_type": "markdown",
      "source": [
        "## Selection Sort\n",
        "This section deals with the Selection Sort Algorithm."
      ],
      "metadata": {
        "id": "nzGXEqjcOtJ4"
      }
    },
    {
      "cell_type": "markdown",
      "source": [
        "### Selection Sort Algorithm and its implementation."
      ],
      "metadata": {
        "id": "Cbuc8yR5Osvc"
      }
    },
    {
      "cell_type": "markdown",
      "source": [
        "#### **This is the link to the explanation of Selection Sort Algorithm and related code.\n"
      ],
      "metadata": {
        "id": "Ox2EgKCJPI8Y"
      }
    },
    {
      "cell_type": "code",
      "source": [
        "# Code implemented in Python for Selection Sort Algorithm\n",
        "\n",
        "def selection_sort_impl(X):\n",
        "\n",
        "  # initializing the needed variables.\n",
        "\n",
        "  n = len(X)\n",
        "\n",
        "  for i in range(n-1):        # To sort a list of n elments we need n-1 iterations only.\n",
        "    index_of_min = i          # Assuming the index of the minimum element is i\n",
        "\n",
        "    for j in range(i+1, n):   # We traverse the sub-list from i+1 element to the last element in every iteration.\n",
        "\n",
        "      if X[index_of_min] > X[j]:\n",
        "        # if this is the case we need to mention the index_of_min is at the j position.\n",
        "        index_of_min = j\n",
        "\n",
        "      print(f\"  Comparison : At iteration {i}, comparing {X[i]} < {X[j]} (the element at position {j})\")\n",
        "\n",
        "    # After the traversal thru the entire remaining unsorted sub-list been done.\n",
        "    if index_of_min != i:\n",
        "      X[index_of_min], X[i] = X[i], X[index_of_min]\n",
        "\n",
        "      print(f\"  Swap : At iteration {i}, {X[i]} and {X[j]}, the elements at position {i}, {j} swapped \")\n",
        "\n",
        "\n",
        "    print(f\" Selection Sort : sorted sub-list {X[:i+1]} unsorted sub-list {X[i+1:]} at the end of iteration {i}\")\n",
        "\n",
        "  return X      # sorted list.\n"
      ],
      "metadata": {
        "id": "E1QhMdkW9aSF"
      },
      "execution_count": 1,
      "outputs": []
    },
    {
      "cell_type": "code",
      "source": [
        "# Test cases:\n",
        "test_case_dict = {'1':{'ip' : [[20, 10, 40, 30, 50, 60, 70]]\n",
        "                      ,'op' : [10, 20, 30, 40, 50, 60, 70]\n",
        "                       }                  \n",
        "                 ,'2':{'ip' : [[10, 20, 40, 30, 50, 60, 70]]\n",
        "                       ,'op': [10, 20, 30, 40, 50, 60, 70]\n",
        "                       }\n",
        "                 ,'3':{'ip' : [[70, 60, 50, 40, 30, 20, 10]]\n",
        "                       ,'op': [10, 20, 30, 40, 50, 60, 70]\n",
        "                       }\n",
        "                 ,'4':{'ip' : [[20, 10]]\n",
        "                       ,'op': [10, 20]\n",
        "                       }\n",
        "                ,'5':{'ip' : [[20, 10, 20, 30]]\n",
        "                       ,'op': [10, 20, 20, 30]\n",
        "                       }\n",
        "                ,'6':{'ip' : [[10, 20, 30, 40]]\n",
        "                       ,'op': [10, 20, 30, 40]\n",
        "                       ,'descr':'This test case showcases for the already sorted list, the algorithm deduced in the first iteration itself'\n",
        "                       }\n",
        "                  }\n",
        "for key, value in test_case_dict.items():\n",
        "\n",
        "  print(f\"Executing Test Case {key} Input: {value['ip'][0]}\")\n",
        "  sorted_list = selection_sort_impl(value['ip'][0])\n",
        "  assert sorted_list == value['op'], f\"The test case# {key} has failed.\"\n",
        "  print(f\"Sorted List {sorted_list}\")\n",
        "  print(\"\\n\")\n",
        "\n",
        "print(f\"All {len(test_case_dict)} test cases have passed ...\")"
      ],
      "metadata": {
        "colab": {
          "base_uri": "https://localhost:8080/"
        },
        "id": "xR7yYoECUcuZ",
        "outputId": "e7293dd1-0700-49ed-d023-a2b855e561e1"
      },
      "execution_count": 2,
      "outputs": [
        {
          "output_type": "stream",
          "name": "stdout",
          "text": [
            "Executing Test Case 1 Input: [20, 10, 40, 30, 50, 60, 70]\n",
            "  Comparison : At iteration 0, comparing 20 < 10 (the element at position 1)\n",
            "  Comparison : At iteration 0, comparing 20 < 40 (the element at position 2)\n",
            "  Comparison : At iteration 0, comparing 20 < 30 (the element at position 3)\n",
            "  Comparison : At iteration 0, comparing 20 < 50 (the element at position 4)\n",
            "  Comparison : At iteration 0, comparing 20 < 60 (the element at position 5)\n",
            "  Comparison : At iteration 0, comparing 20 < 70 (the element at position 6)\n",
            "  Swap : At iteration 0, 10 and 70, the elements at position 0, 6 swapped \n",
            " Selection Sort : sorted sub-list [10] unsorted sub-list [20, 40, 30, 50, 60, 70] at the end of iteration 0\n",
            "  Comparison : At iteration 1, comparing 20 < 40 (the element at position 2)\n",
            "  Comparison : At iteration 1, comparing 20 < 30 (the element at position 3)\n",
            "  Comparison : At iteration 1, comparing 20 < 50 (the element at position 4)\n",
            "  Comparison : At iteration 1, comparing 20 < 60 (the element at position 5)\n",
            "  Comparison : At iteration 1, comparing 20 < 70 (the element at position 6)\n",
            " Selection Sort : sorted sub-list [10, 20] unsorted sub-list [40, 30, 50, 60, 70] at the end of iteration 1\n",
            "  Comparison : At iteration 2, comparing 40 < 30 (the element at position 3)\n",
            "  Comparison : At iteration 2, comparing 40 < 50 (the element at position 4)\n",
            "  Comparison : At iteration 2, comparing 40 < 60 (the element at position 5)\n",
            "  Comparison : At iteration 2, comparing 40 < 70 (the element at position 6)\n",
            "  Swap : At iteration 2, 30 and 70, the elements at position 2, 6 swapped \n",
            " Selection Sort : sorted sub-list [10, 20, 30] unsorted sub-list [40, 50, 60, 70] at the end of iteration 2\n",
            "  Comparison : At iteration 3, comparing 40 < 50 (the element at position 4)\n",
            "  Comparison : At iteration 3, comparing 40 < 60 (the element at position 5)\n",
            "  Comparison : At iteration 3, comparing 40 < 70 (the element at position 6)\n",
            " Selection Sort : sorted sub-list [10, 20, 30, 40] unsorted sub-list [50, 60, 70] at the end of iteration 3\n",
            "  Comparison : At iteration 4, comparing 50 < 60 (the element at position 5)\n",
            "  Comparison : At iteration 4, comparing 50 < 70 (the element at position 6)\n",
            " Selection Sort : sorted sub-list [10, 20, 30, 40, 50] unsorted sub-list [60, 70] at the end of iteration 4\n",
            "  Comparison : At iteration 5, comparing 60 < 70 (the element at position 6)\n",
            " Selection Sort : sorted sub-list [10, 20, 30, 40, 50, 60] unsorted sub-list [70] at the end of iteration 5\n",
            "Sorted List [10, 20, 30, 40, 50, 60, 70]\n",
            "\n",
            "\n",
            "Executing Test Case 2 Input: [10, 20, 40, 30, 50, 60, 70]\n",
            "  Comparison : At iteration 0, comparing 10 < 20 (the element at position 1)\n",
            "  Comparison : At iteration 0, comparing 10 < 40 (the element at position 2)\n",
            "  Comparison : At iteration 0, comparing 10 < 30 (the element at position 3)\n",
            "  Comparison : At iteration 0, comparing 10 < 50 (the element at position 4)\n",
            "  Comparison : At iteration 0, comparing 10 < 60 (the element at position 5)\n",
            "  Comparison : At iteration 0, comparing 10 < 70 (the element at position 6)\n",
            " Selection Sort : sorted sub-list [10] unsorted sub-list [20, 40, 30, 50, 60, 70] at the end of iteration 0\n",
            "  Comparison : At iteration 1, comparing 20 < 40 (the element at position 2)\n",
            "  Comparison : At iteration 1, comparing 20 < 30 (the element at position 3)\n",
            "  Comparison : At iteration 1, comparing 20 < 50 (the element at position 4)\n",
            "  Comparison : At iteration 1, comparing 20 < 60 (the element at position 5)\n",
            "  Comparison : At iteration 1, comparing 20 < 70 (the element at position 6)\n",
            " Selection Sort : sorted sub-list [10, 20] unsorted sub-list [40, 30, 50, 60, 70] at the end of iteration 1\n",
            "  Comparison : At iteration 2, comparing 40 < 30 (the element at position 3)\n",
            "  Comparison : At iteration 2, comparing 40 < 50 (the element at position 4)\n",
            "  Comparison : At iteration 2, comparing 40 < 60 (the element at position 5)\n",
            "  Comparison : At iteration 2, comparing 40 < 70 (the element at position 6)\n",
            "  Swap : At iteration 2, 30 and 70, the elements at position 2, 6 swapped \n",
            " Selection Sort : sorted sub-list [10, 20, 30] unsorted sub-list [40, 50, 60, 70] at the end of iteration 2\n",
            "  Comparison : At iteration 3, comparing 40 < 50 (the element at position 4)\n",
            "  Comparison : At iteration 3, comparing 40 < 60 (the element at position 5)\n",
            "  Comparison : At iteration 3, comparing 40 < 70 (the element at position 6)\n",
            " Selection Sort : sorted sub-list [10, 20, 30, 40] unsorted sub-list [50, 60, 70] at the end of iteration 3\n",
            "  Comparison : At iteration 4, comparing 50 < 60 (the element at position 5)\n",
            "  Comparison : At iteration 4, comparing 50 < 70 (the element at position 6)\n",
            " Selection Sort : sorted sub-list [10, 20, 30, 40, 50] unsorted sub-list [60, 70] at the end of iteration 4\n",
            "  Comparison : At iteration 5, comparing 60 < 70 (the element at position 6)\n",
            " Selection Sort : sorted sub-list [10, 20, 30, 40, 50, 60] unsorted sub-list [70] at the end of iteration 5\n",
            "Sorted List [10, 20, 30, 40, 50, 60, 70]\n",
            "\n",
            "\n",
            "Executing Test Case 3 Input: [70, 60, 50, 40, 30, 20, 10]\n",
            "  Comparison : At iteration 0, comparing 70 < 60 (the element at position 1)\n",
            "  Comparison : At iteration 0, comparing 70 < 50 (the element at position 2)\n",
            "  Comparison : At iteration 0, comparing 70 < 40 (the element at position 3)\n",
            "  Comparison : At iteration 0, comparing 70 < 30 (the element at position 4)\n",
            "  Comparison : At iteration 0, comparing 70 < 20 (the element at position 5)\n",
            "  Comparison : At iteration 0, comparing 70 < 10 (the element at position 6)\n",
            "  Swap : At iteration 0, 10 and 70, the elements at position 0, 6 swapped \n",
            " Selection Sort : sorted sub-list [10] unsorted sub-list [60, 50, 40, 30, 20, 70] at the end of iteration 0\n",
            "  Comparison : At iteration 1, comparing 60 < 50 (the element at position 2)\n",
            "  Comparison : At iteration 1, comparing 60 < 40 (the element at position 3)\n",
            "  Comparison : At iteration 1, comparing 60 < 30 (the element at position 4)\n",
            "  Comparison : At iteration 1, comparing 60 < 20 (the element at position 5)\n",
            "  Comparison : At iteration 1, comparing 60 < 70 (the element at position 6)\n",
            "  Swap : At iteration 1, 20 and 70, the elements at position 1, 6 swapped \n",
            " Selection Sort : sorted sub-list [10, 20] unsorted sub-list [50, 40, 30, 60, 70] at the end of iteration 1\n",
            "  Comparison : At iteration 2, comparing 50 < 40 (the element at position 3)\n",
            "  Comparison : At iteration 2, comparing 50 < 30 (the element at position 4)\n",
            "  Comparison : At iteration 2, comparing 50 < 60 (the element at position 5)\n",
            "  Comparison : At iteration 2, comparing 50 < 70 (the element at position 6)\n",
            "  Swap : At iteration 2, 30 and 70, the elements at position 2, 6 swapped \n",
            " Selection Sort : sorted sub-list [10, 20, 30] unsorted sub-list [40, 50, 60, 70] at the end of iteration 2\n",
            "  Comparison : At iteration 3, comparing 40 < 50 (the element at position 4)\n",
            "  Comparison : At iteration 3, comparing 40 < 60 (the element at position 5)\n",
            "  Comparison : At iteration 3, comparing 40 < 70 (the element at position 6)\n",
            " Selection Sort : sorted sub-list [10, 20, 30, 40] unsorted sub-list [50, 60, 70] at the end of iteration 3\n",
            "  Comparison : At iteration 4, comparing 50 < 60 (the element at position 5)\n",
            "  Comparison : At iteration 4, comparing 50 < 70 (the element at position 6)\n",
            " Selection Sort : sorted sub-list [10, 20, 30, 40, 50] unsorted sub-list [60, 70] at the end of iteration 4\n",
            "  Comparison : At iteration 5, comparing 60 < 70 (the element at position 6)\n",
            " Selection Sort : sorted sub-list [10, 20, 30, 40, 50, 60] unsorted sub-list [70] at the end of iteration 5\n",
            "Sorted List [10, 20, 30, 40, 50, 60, 70]\n",
            "\n",
            "\n",
            "Executing Test Case 4 Input: [20, 10]\n",
            "  Comparison : At iteration 0, comparing 20 < 10 (the element at position 1)\n",
            "  Swap : At iteration 0, 10 and 20, the elements at position 0, 1 swapped \n",
            " Selection Sort : sorted sub-list [10] unsorted sub-list [20] at the end of iteration 0\n",
            "Sorted List [10, 20]\n",
            "\n",
            "\n",
            "Executing Test Case 5 Input: [20, 10, 20, 30]\n",
            "  Comparison : At iteration 0, comparing 20 < 10 (the element at position 1)\n",
            "  Comparison : At iteration 0, comparing 20 < 20 (the element at position 2)\n",
            "  Comparison : At iteration 0, comparing 20 < 30 (the element at position 3)\n",
            "  Swap : At iteration 0, 10 and 30, the elements at position 0, 3 swapped \n",
            " Selection Sort : sorted sub-list [10] unsorted sub-list [20, 20, 30] at the end of iteration 0\n",
            "  Comparison : At iteration 1, comparing 20 < 20 (the element at position 2)\n",
            "  Comparison : At iteration 1, comparing 20 < 30 (the element at position 3)\n",
            " Selection Sort : sorted sub-list [10, 20] unsorted sub-list [20, 30] at the end of iteration 1\n",
            "  Comparison : At iteration 2, comparing 20 < 30 (the element at position 3)\n",
            " Selection Sort : sorted sub-list [10, 20, 20] unsorted sub-list [30] at the end of iteration 2\n",
            "Sorted List [10, 20, 20, 30]\n",
            "\n",
            "\n",
            "Executing Test Case 6 Input: [10, 20, 30, 40]\n",
            "  Comparison : At iteration 0, comparing 10 < 20 (the element at position 1)\n",
            "  Comparison : At iteration 0, comparing 10 < 30 (the element at position 2)\n",
            "  Comparison : At iteration 0, comparing 10 < 40 (the element at position 3)\n",
            " Selection Sort : sorted sub-list [10] unsorted sub-list [20, 30, 40] at the end of iteration 0\n",
            "  Comparison : At iteration 1, comparing 20 < 30 (the element at position 2)\n",
            "  Comparison : At iteration 1, comparing 20 < 40 (the element at position 3)\n",
            " Selection Sort : sorted sub-list [10, 20] unsorted sub-list [30, 40] at the end of iteration 1\n",
            "  Comparison : At iteration 2, comparing 30 < 40 (the element at position 3)\n",
            " Selection Sort : sorted sub-list [10, 20, 30] unsorted sub-list [40] at the end of iteration 2\n",
            "Sorted List [10, 20, 30, 40]\n",
            "\n",
            "\n",
            "All 6 test cases have passed ...\n"
          ]
        }
      ]
    },
    {
      "cell_type": "code",
      "source": [
        ""
      ],
      "metadata": {
        "id": "8XRABPDUddFK"
      },
      "execution_count": null,
      "outputs": []
    }
  ]
}