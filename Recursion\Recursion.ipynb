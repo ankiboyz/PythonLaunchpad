{
  "nbformat": 4,
  "nbformat_minor": 0,
  "metadata": {
    "colab": {
      "name": "Recursion.ipynb",
      "provenance": [],
      "authorship_tag": "ABX9TyMdJuUppBVyXcNIrg9DmNwy",
      "include_colab_link": true
    },
    "kernelspec": {
      "name": "python3",
      "display_name": "Python 3"
    },
    "language_info": {
      "name": "python"
    }
  },
  "cells": [
    {
      "cell_type": "markdown",
      "metadata": {
        "id": "view-in-github",
        "colab_type": "text"
      },
      "source": [
        "<a href=\"https://colab.research.google.com/github/ankiboyz/PythonLaunchpad/blob/main/Recursion%5CRecursion.ipynb\" target=\"_parent\"><img src=\"https://colab.research.google.com/assets/colab-badge.svg\" alt=\"Open In Colab\"/></a>"
      ]
    },
    {
      "cell_type": "markdown",
      "source": [
        "# Recursion Problems\n",
        "\n",
        "This is a repository of different problems on Recursion. Recursion gives a boost to the grey matter, motivating the brain cells to go deeper and create new patterns of neurons connections as the enforces ways other than usual procedural logic.These are put here to provide a firm foundation of multi-layered logic and swift transition to Hands On Machine Learning using Python.\n",
        "\n",
        "---\n",
        "Author: **Ankur Saxena**\n",
        "*   You Tube:\n",
        "*   Linked In:\n",
        "*   Facebook Group:\n"
      ],
      "metadata": {
        "id": "cw5C200MTJqv"
      }
    },
    {
      "cell_type": "markdown",
      "source": [
        "# Code of Honor:\n",
        "1. Please look into the solution only once you have attempted the question at your end.\n",
        "2. These questions are amalgamation of innumerous hours of self practice put into becoming a great data scientist.The idea here is to share with you the same to help in your journey to greatness; kindly do give these an honest try and look for various ways in which the solution can be made more efficient (time/space complexity wise and/or improvement in the best case / worst case scenarios)"
      ],
      "metadata": {
        "id": "ICr5Ab2kZohV"
      }
    },
    {
      "cell_type": "markdown",
      "source": [
        "## Q1. Write a recursive program to calculate the harmonic sum of the first n numbers.\n",
        "\n",
        "Note: The harmonic sum is the sum of reciprocals of the positive integers. (Round the sum to 3 decimal places)\n",
        "\n",
        "Input Format: n suggesting the integer upto which the reciprocals sum need to be calculated. Output Format: Sum rounded to 3 decimal places is produced.\n",
        "\n",
        "Sample Input-Output:\n",
        "  Input: 7 Output: 2.593"
      ],
      "metadata": {
        "id": "THmz3SyVTJgR"
      }
    },
    {
      "cell_type": "markdown",
      "source": [
        "### Solution(Way#1) to calculate the Harmonic sum of first n numbers.: Please look at the solution only once you have attempted it at your end."
      ],
      "metadata": {
        "id": "D8WjKbh9TJSA"
      }
    },
    {
      "cell_type": "code",
      "execution_count": null,
      "metadata": {
        "id": "pzsbJIeTTHUK"
      },
      "outputs": [],
      "source": [
        ""
      ]
    }
  ]
}