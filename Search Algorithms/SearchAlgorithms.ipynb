{
  "nbformat": 4,
  "nbformat_minor": 0,
  "metadata": {
    "colab": {
      "name": "SearchAlgorithms.ipynb",
      "provenance": [],
      "collapsed_sections": [],
      "authorship_tag": "ABX9TyMLCb75xViOxo/YmYqNQ+as",
      "include_colab_link": true
    },
    "kernelspec": {
      "name": "python3",
      "display_name": "Python 3"
    },
    "language_info": {
      "name": "python"
    }
  },
  "cells": [
    {
      "cell_type": "markdown",
      "metadata": {
        "id": "view-in-github",
        "colab_type": "text"
      },
      "source": [
        "<a href=\"https://colab.research.google.com/github/ankiboyz/PythonLaunchpad/blob/main/Search%20Algorithms/SearchAlgorithms.ipynb\" target=\"_parent\"><img src=\"https://colab.research.google.com/assets/colab-badge.svg\" alt=\"Open In Colab\"/></a>"
      ]
    },
    {
      "cell_type": "markdown",
      "source": [
        "# Searching Algorithms\n",
        "\n",
        "This is a repository of different problems on the Searching Algorithms."
      ],
      "metadata": {
        "id": "6JyTfzlSsdfa"
      }
    },
    {
      "cell_type": "markdown",
      "source": [
        "## Binary Search\n",
        "This section deals with the Binary Seach Algorithm."
      ],
      "metadata": {
        "id": "RznrIoLNs9fl"
      }
    },
    {
      "cell_type": "markdown",
      "source": [
        "### 1. Binary Search Algorithm and its implementation."
      ],
      "metadata": {
        "id": "zcaIdIpAtL0v"
      }
    },
    {
      "cell_type": "markdown",
      "source": [
        "#### This is the link to the explanation of the Binary Search Algorithm and related code: [Binary Search Explained](https://youtu.be/AnnyM48nr-Q)\n",
        "\n",
        "\n",
        "\n"
      ],
      "metadata": {
        "id": "fAsHwUpRC9p0"
      }
    },
    {
      "cell_type": "code",
      "execution_count": 19,
      "metadata": {
        "id": "cadQJKpMsY_P"
      },
      "outputs": [],
      "source": [
        "# Code implemented in Python for the Binary search Algorithm.\n",
        "# value val to be searched in the list X\n",
        "\n",
        "def binary_search_impl(X, val):\n",
        "\n",
        "  # Initializing the needed variables\n",
        "\n",
        "  n = len(X)\n",
        "  start = 0  \n",
        "  end = n - 1\n",
        "  have_found = False\n",
        "\n",
        "  while start <= end:\n",
        "\n",
        "    mid = int((start + end)/2)\n",
        "\n",
        "    print(f\" start={start}, end={end}, mid={mid}, element={X[mid]}\")    # for demonstration purpose only.\n",
        "\n",
        "    if val == X[mid]:\n",
        "      have_found = True\n",
        "      break                        # break the loop, if found.\n",
        "\n",
        "    elif val < X[mid]:\n",
        "      end = mid - 1\n",
        "    \n",
        "    else:                          # denotes the condition val > X[mid].\n",
        "      start = mid + 1\n",
        "\n",
        "  return have_found"
      ]
    },
    {
      "cell_type": "code",
      "source": [
        "# Test cases:\n",
        "test_case_dict = {'1':{'ip' : [[0, 1, 2, 3, 4, 5], 1]\n",
        "                      ,'op' : True}\n",
        "                 ,'2':{'ip' : [[0, 1, 2, 3, 4, 5], 5]\n",
        "                       ,'op': True\n",
        "                       }\n",
        "                 ,'3':{'ip' : [[0, 1, 2, 3, 4, 5], 0]\n",
        "                       ,'op': True\n",
        "                       }\n",
        "                 ,'4':{'ip' : [[0, 1, 2, 3, 4, 5], 7]\n",
        "                       ,'op': False\n",
        "                       }\n",
        "                  }\n",
        "for key, value in test_case_dict.items():\n",
        "\n",
        "  print(f\"Executing Test Case {key} Input: {value['ip'][0]}, {value['ip'][1]} \")\n",
        "\n",
        "  assert binary_search_impl(value['ip'][0], value['ip'][1] ) == value['op'], f\"The test case# {key} has failed.\"\n",
        "\n",
        "  print(\"\\n\")\n",
        "\n",
        "print(f\"All {len(test_case_dict)} test cases have passed ...\")"
      ],
      "metadata": {
        "colab": {
          "base_uri": "https://localhost:8080/"
        },
        "id": "5uNtF56wHfqG",
        "outputId": "496bc6ce-e8ad-4cd9-a837-6a485e9271d7"
      },
      "execution_count": 20,
      "outputs": [
        {
          "output_type": "stream",
          "name": "stdout",
          "text": [
            "Executing Test Case 1 Input: [0, 1, 2, 3, 4, 5], 1 \n",
            " start=0, end=5, mid=2, element=2\n",
            " start=0, end=1, mid=0, element=0\n",
            " start=1, end=1, mid=1, element=1\n",
            "\n",
            "\n",
            "Executing Test Case 2 Input: [0, 1, 2, 3, 4, 5], 5 \n",
            " start=0, end=5, mid=2, element=2\n",
            " start=3, end=5, mid=4, element=4\n",
            " start=5, end=5, mid=5, element=5\n",
            "\n",
            "\n",
            "Executing Test Case 3 Input: [0, 1, 2, 3, 4, 5], 0 \n",
            " start=0, end=5, mid=2, element=2\n",
            " start=0, end=1, mid=0, element=0\n",
            "\n",
            "\n",
            "Executing Test Case 4 Input: [0, 1, 2, 3, 4, 5], 7 \n",
            " start=0, end=5, mid=2, element=2\n",
            " start=3, end=5, mid=4, element=4\n",
            " start=5, end=5, mid=5, element=5\n",
            "\n",
            "\n",
            "All 4 test cases have passed ...\n"
          ]
        }
      ]
    },
    {
      "cell_type": "markdown",
      "source": [
        "## Jump Search Algorithm\n",
        "This section deals with the Jump Seach Algorithm."
      ],
      "metadata": {
        "id": "qkUq-PzBXAkN"
      }
    },
    {
      "cell_type": "markdown",
      "source": [
        "### 1. Jump Search Algorithm and its implementation."
      ],
      "metadata": {
        "id": "ZUIBdLQwrqGl"
      }
    },
    {
      "cell_type": "markdown",
      "source": [
        "#### This is the link to the explanation of the Jump Search Algorithm and related code: [Jump Search Explained](https://youtu.be/XN27eQhvb38)\n"
      ],
      "metadata": {
        "id": "K2-Ne72grsqS"
      }
    },
    {
      "cell_type": "code",
      "source": [
        "# Code implemented in Python for the Jump search Algorithm.\n",
        "# value val to be searched in the list X\n",
        "# Assuming the sorted array is in ascending order.\n",
        "\n",
        "import math                                               # Needed for taking the square root.\n",
        "\n",
        "def jump_search_impl(X, val):\n",
        "\n",
        "  # Initializing the needed variables.\n",
        "\n",
        "  n = len(X)\n",
        "\n",
        "  # Additional check when there is only one element.\n",
        "  if n==1:\n",
        "    if (X[0] == val):\n",
        "      have_found = True\n",
        "      return have_found\n",
        "\n",
        "  jump_size = int(math.sqrt(n))\n",
        "  start = 0\n",
        "  end = jump_size\n",
        "\n",
        "  have_found = False\n",
        "\n",
        "  # The code block to bring out the space in which the val lies.\n",
        "  # In this code block the value of start and end of the porblem space will be determined.\n",
        "\n",
        "  while (start < n-1):                                    # The start index has not reached end of list X, do not equate to n-1 here else will be infinite loop. \n",
        "\n",
        "    print(f\" Problem Space Search --> start={start}, end={end}, jump_size={jump_size}, element={X[end]}\")    # for demonstration purpose only.\n",
        "\n",
        "    if val <= X[end]:\n",
        "      \n",
        "      # Here, we do the linear seach to find out the element.\n",
        "      for i in range(end, start-1, -1):\n",
        "\n",
        "        print(f\"  Linear searching --> start={start}, end={end}, current_index={i}, current_element={X[i]}\")    # for demonstration purpose only.\n",
        "\n",
        "        if val == X[i]:\n",
        "          have_found = True\n",
        "          break\n",
        "        elif val > X[i]:\n",
        "          have_found = False                            # Since array is sorted in ascending order (as per our assumption), and we are coming from end to start , if the value now becomes greater then we now the element is not present.\n",
        "          break\n",
        "\n",
        "      break\n",
        "\n",
        "    else:\n",
        "      start = end\n",
        "      end = min(start + jump_size, n-1)\n",
        "\n",
        "  return have_found\n"
      ],
      "metadata": {
        "id": "Itd4ulTvJuY6"
      },
      "execution_count": 1,
      "outputs": []
    },
    {
      "cell_type": "code",
      "source": [
        "# Test cases:\n",
        "test_case_dict = {'1':{'ip' : [[0, 1, 2, 3, 4, 5], 1]\n",
        "                      ,'op' : True}\n",
        "                 ,'2':{'ip' : [[0, 1, 2, 3, 4, 5], 5]\n",
        "                       ,'op': True\n",
        "                       }\n",
        "                 ,'3':{'ip' : [[0, 1, 2, 3, 4, 5], 0]\n",
        "                       ,'op': True\n",
        "                       }\n",
        "                 ,'4':{'ip' : [[0, 1, 2, 3, 4, 5], 7]\n",
        "                       ,'op': False\n",
        "                       }\n",
        "                 ,'5':{'ip' : [[7, ], 7]\n",
        "                       ,'op': True\n",
        "                       }\n",
        "                  }\n",
        "for key, value in test_case_dict.items():\n",
        "\n",
        "  print(f\"Executing Test Case {key} Input: {value['ip'][0]}, {value['ip'][1]} \")\n",
        "\n",
        "  assert jump_search_impl(value['ip'][0], value['ip'][1] ) == value['op'], f\"The test case# {key} has failed.\"\n",
        "\n",
        "  print(\"\\n\")\n",
        "\n",
        "print(f\"All {len(test_case_dict)} test cases have passed ...\")"
      ],
      "metadata": {
        "id": "XRVovz2cwqlK",
        "outputId": "9318d517-1b6b-4eff-c5dc-09a88ff8340e",
        "colab": {
          "base_uri": "https://localhost:8080/"
        }
      },
      "execution_count": 4,
      "outputs": [
        {
          "output_type": "stream",
          "name": "stdout",
          "text": [
            "Executing Test Case 1 Input: [0, 1, 2, 3, 4, 5], 1 \n",
            " Problem Space Search --> start=0, end=2, jump_size=2, element=2\n",
            "  Linear searching --> start=0, end=2, current_index=2, current_element=2\n",
            "  Linear searching --> start=0, end=2, current_index=1, current_element=1\n",
            "\n",
            "\n",
            "Executing Test Case 2 Input: [0, 1, 2, 3, 4, 5], 5 \n",
            " Problem Space Search --> start=0, end=2, jump_size=2, element=2\n",
            " Problem Space Search --> start=2, end=4, jump_size=2, element=4\n",
            " Problem Space Search --> start=4, end=5, jump_size=2, element=5\n",
            "  Linear searching --> start=4, end=5, current_index=5, current_element=5\n",
            "\n",
            "\n",
            "Executing Test Case 3 Input: [0, 1, 2, 3, 4, 5], 0 \n",
            " Problem Space Search --> start=0, end=2, jump_size=2, element=2\n",
            "  Linear searching --> start=0, end=2, current_index=2, current_element=2\n",
            "  Linear searching --> start=0, end=2, current_index=1, current_element=1\n",
            "  Linear searching --> start=0, end=2, current_index=0, current_element=0\n",
            "\n",
            "\n",
            "Executing Test Case 4 Input: [0, 1, 2, 3, 4, 5], 7 \n",
            " Problem Space Search --> start=0, end=2, jump_size=2, element=2\n",
            " Problem Space Search --> start=2, end=4, jump_size=2, element=4\n",
            " Problem Space Search --> start=4, end=5, jump_size=2, element=5\n",
            "\n",
            "\n",
            "Executing Test Case 5 Input: [7], 7 \n",
            "\n",
            "\n",
            "All 5 test cases have passed ...\n"
          ]
        }
      ]
    },
    {
      "cell_type": "markdown",
      "source": [
        "## Exponential Search\n",
        "This section deals with the Exponential Search Algorithm"
      ],
      "metadata": {
        "id": "VQBKWTmQXQ-W"
      }
    },
    {
      "cell_type": "markdown",
      "source": [
        "### 1. Exponential Search Algorithm and its implementation"
      ],
      "metadata": {
        "id": "O8z1JVzqXc7b"
      }
    },
    {
      "cell_type": "markdown",
      "source": [
        "#### This is the link to the explanation of the Jump Search Algorithm and related code: "
      ],
      "metadata": {
        "id": "ynSgPw2-Xlk0"
      }
    },
    {
      "cell_type": "code",
      "source": [
        "# Code implementation in Python for Exponential Search Implementation.\n",
        "# value val to be searched in the list X\n",
        "# Assuming the sorted array is in ascending order.\n",
        "\n",
        "def exponential_search_impl(X, val):\n",
        "\n",
        "  # initializing the needed variables.\n",
        "\n",
        "  n = len(X)\n",
        "  exponential_jump_size = (0 if n=1 else 1)   # If there is only one element in the array then jump cant be > 1.\n",
        "  \n",
        "  # Setting up the coordinates of the Problem Space.\n",
        "  start = 0\n",
        "  end = exponential_jump_size\n",
        "\n",
        "  # Flag to state the value has reached.\n",
        "  have_found = False\n",
        "\n",
        "  while (exponential_jump_size <= n) and (X[end] < val):\n",
        "\n",
        "      \n",
        "\n",
        "\n",
        "\n"
      ],
      "metadata": {
        "id": "D85S86iNXX3o"
      },
      "execution_count": null,
      "outputs": []
    }
  ]
}