{
  "nbformat": 4,
  "nbformat_minor": 0,
  "metadata": {
    "colab": {
      "name": "SearchAlgorithms.ipynb",
      "provenance": [],
      "collapsed_sections": [],
      "authorship_tag": "ABX9TyOL/Q26Je4smOgSAGVzXr8U",
      "include_colab_link": true
    },
    "kernelspec": {
      "name": "python3",
      "display_name": "Python 3"
    },
    "language_info": {
      "name": "python"
    }
  },
  "cells": [
    {
      "cell_type": "markdown",
      "metadata": {
        "id": "view-in-github",
        "colab_type": "text"
      },
      "source": [
        "<a href=\"https://colab.research.google.com/github/ankiboyz/PythonLaunchpad/blob/main/Search%20Algorithms/SearchAlgorithms.ipynb\" target=\"_parent\"><img src=\"https://colab.research.google.com/assets/colab-badge.svg\" alt=\"Open In Colab\"/></a>"
      ]
    },
    {
      "cell_type": "markdown",
      "source": [
        "# Searching Algorithms\n",
        "\n",
        "This is a repository of different problems on the Searching Algorithms."
      ],
      "metadata": {
        "id": "6JyTfzlSsdfa"
      }
    },
    {
      "cell_type": "markdown",
      "source": [
        "## Binary Search\n",
        "This section deals with the Binary Seach Algorithm."
      ],
      "metadata": {
        "id": "RznrIoLNs9fl"
      }
    },
    {
      "cell_type": "markdown",
      "source": [
        "### 1. Binary Search Algorithm and its implementation."
      ],
      "metadata": {
        "id": "zcaIdIpAtL0v"
      }
    },
    {
      "cell_type": "markdown",
      "source": [
        "#### **This is the link to the explanation of the Binary Search Algorithm and related code:\n",
        "\n",
        "\n",
        "\n"
      ],
      "metadata": {
        "id": "fAsHwUpRC9p0"
      }
    },
    {
      "cell_type": "code",
      "execution_count": null,
      "metadata": {
        "id": "cadQJKpMsY_P"
      },
      "outputs": [],
      "source": [
        "# Code implemented in Python for the Binary search Algorithm.\n",
        "# value val to be searched in the list X\n",
        "\n",
        "def binary_search_impl(X, val):\n",
        "\n",
        "  # Initializing the needed variables\n",
        "\n",
        "  n = len(X)\n",
        "  start = 0  \n",
        "  end = n - 1\n",
        "  have_found = False\n",
        "\n",
        "  while start <= end:\n",
        "\n",
        "    mid = int((start + end)/2)\n",
        "\n",
        "    print(f\" start={start}, end={end}, mid={mid}, element={X[mid]}\")    # for demonstration purpose only.\n",
        "\n",
        "    if val == X[mid]:\n",
        "      have_found = True\n",
        "      break                        # break the loop, if found.\n",
        "\n",
        "    elif val < X[mid]:\n",
        "      end = mid - 1\n",
        "    \n",
        "    else:                          # denotes the condition val > X[mid].\n",
        "      start = mid + 1\n",
        "\n",
        "  return have_found"
      ]
    },
    {
      "cell_type": "code",
      "source": [
        "# Test cases:\n",
        "test_case_dict = {'1':{'ip' : [[0, 1, 2, 3, 4, 5], 1]\n",
        "                      ,'op' : True}\n",
        "                 ,'2':{'ip' : [[0, 1, 2, 3, 4, 5], 5]\n",
        "                       ,'op': True\n",
        "                       }\n",
        "                 ,'3':{'ip' : [[0, 1, 2, 3, 4, 5], 0]\n",
        "                       ,'op': True\n",
        "                       }\n",
        "                 ,'4':{'ip' : [[0, 1, 2, 3, 4, 5], 7]\n",
        "                       ,'op': False\n",
        "                       }\n",
        "                  }\n",
        "for key, value in test_case_dict.items():\n",
        "\n",
        "  print(f\"Executing Test Case {key}\")\n",
        "\n",
        "  assert binary_search_impl(value['ip'][0], value['ip'][1] ) == value['op'], f\"The test case# {key} has failed.\"\n",
        "\n",
        "  print(\"\\n\")\n",
        "\n",
        "print(f\"All {len(test_case_dict)} test cases have passed ...\")"
      ],
      "metadata": {
        "colab": {
          "base_uri": "https://localhost:8080/"
        },
        "id": "5uNtF56wHfqG",
        "outputId": "4687d261-75a4-4fa8-e45a-bcdd6b2d49d6"
      },
      "execution_count": null,
      "outputs": [
        {
          "output_type": "stream",
          "name": "stdout",
          "text": [
            "Executing Test Case 1\n",
            " start=0, end=5, mid=2, element=2\n",
            " start=0, end=1, mid=0, element=0\n",
            " start=1, end=1, mid=1, element=1\n",
            "\n",
            "\n",
            "Executing Test Case 2\n",
            " start=0, end=5, mid=2, element=2\n",
            " start=3, end=5, mid=4, element=4\n",
            " start=5, end=5, mid=5, element=5\n",
            "\n",
            "\n",
            "Executing Test Case 3\n",
            " start=0, end=5, mid=2, element=2\n",
            " start=0, end=1, mid=0, element=0\n",
            "\n",
            "\n",
            "Executing Test Case 4\n",
            " start=0, end=5, mid=2, element=2\n",
            " start=3, end=5, mid=4, element=4\n",
            " start=5, end=5, mid=5, element=5\n",
            "\n",
            "\n",
            "All 4 test cases have passed ...\n"
          ]
        }
      ]
    },
    {
      "cell_type": "code",
      "source": [
        ""
      ],
      "metadata": {
        "id": "Itd4ulTvJuY6"
      },
      "execution_count": null,
      "outputs": []
    }
  ]
}