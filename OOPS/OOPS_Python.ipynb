{
  "nbformat": 4,
  "nbformat_minor": 0,
  "metadata": {
    "colab": {
      "name": "OOPS-Python.ipynb",
      "provenance": [],
      "authorship_tag": "ABX9TyN5zt7mS5Fbfb3vj28LpcaE",
      "include_colab_link": true
    },
    "kernelspec": {
      "name": "python3",
      "display_name": "Python 3"
    },
    "language_info": {
      "name": "python"
    }
  },
  "cells": [
    {
      "cell_type": "markdown",
      "metadata": {
        "id": "view-in-github",
        "colab_type": "text"
      },
      "source": [
        "<a href=\"https://colab.research.google.com/github/ankiboyz/PythonLaunchpad/blob/main/OOPS/OOPS_Python.ipynb\" target=\"_parent\"><img src=\"https://colab.research.google.com/assets/colab-badge.svg\" alt=\"Open In Colab\"/></a>"
      ]
    },
    {
      "cell_type": "markdown",
      "source": [
        "# This repository is all about questions on concept of OOPs in Python. \n",
        "---\n",
        "Author: **Ankur Saxena**\n",
        "\n",
        "You Tube:\n",
        "Linked In:\n",
        "Facebook Group:"
      ],
      "metadata": {
        "id": "rdq1b1zeiHyK"
      }
    },
    {
      "cell_type": "markdown",
      "source": [
        "# Code of Honor:\n",
        "1. Please look into the solution only once you have attempted the question at your end.\n",
        "2. These questions are amalgamation of innumerous hours of self practice put into becoming a great data scientist.The idea here is to share with you the same to help in your journey to greatness; kindly do give these an honest try and look for various ways in which the solution can be made more efficient (time/space complexity wise and/or improvement in the best case / worst case scenarios)"
      ],
      "metadata": {
        "id": "5e4_BkH4ic7J"
      }
    },
    {
      "cell_type": "markdown",
      "source": [
        "## Q1. Instance variables:\n",
        "What will be the output of the following code snippet:\n",
        "\n",
        "```\n",
        "class Player:\n",
        "  # class variables\n",
        "  club = 'United'\n",
        "  sport = 'Football'\n",
        "\n",
        "  def __init__(self, name):\n",
        "    # Instance variable\n",
        "    self.name = name\n",
        "\n",
        "  def show(self):\n",
        "    print('Name:', self.name, 'Club:', self.club, 'Sports:', self.sport, end=\" \")\n",
        "\n",
        "p1 = Player('Sanjay')\n",
        "p1.club = 'Real Madrid'\n",
        "p1.show()\n",
        "\n",
        "p2 = Player('Ravi')\n",
        "p2.sport = 'Tennis'\n",
        "p2.show()\n",
        "```\n",
        "\n",
        "Which one of the following option would you thonk would be the output:\n",
        "\n",
        "\n",
        "1.   Name: Sanjay Club: Real Madrid Sports: Football Name: Ravi Club: United Sports: Tennis\n",
        "\n",
        "2.   Name: Sanjay Club: United Sports: Football Name: Ravi Club: United Sports: Football\n",
        "\n",
        "3. Name: Sanjay Club: Real Madrid Sports: Football Name: Ravi Club: Real Madrid Sports: Tennis\n",
        "\n",
        "4. Name: Sanjay Club: Real Madrid Sports: Football Name: Ravi Club: Real Madrid Sports: Football\n"
      ],
      "metadata": {
        "id": "kgHz-O7Nii7R"
      }
    },
    {
      "cell_type": "markdown",
      "source": [
        "### Solution:  The following is the output of the above question.\n",
        "Here, the instance variable club is newly created upon caling the code `p1.club = 'Real Madrid'`. The earlier variable club is the class variable created at the time of class definition as per the codelet:\n",
        "```\n",
        "class Player:\n",
        "  # class variables\n",
        "  club = 'United'\n",
        "```\n",
        "So, as we know class variable are created in Python by the name _classname\\__identifier which is the \"name mangling\" concept.\n",
        "So there are 2 variables here, one is by the name \"club\" which is an instance variable and the other is by the name \"_Player\\__club\" which is the class variable.\n"
      ],
      "metadata": {
        "id": "VBgZV1-2i3Lo"
      }
    },
    {
      "cell_type": "code",
      "execution_count": null,
      "metadata": {
        "id": "o_4KUwnCiDeP"
      },
      "outputs": [],
      "source": []
    }
  ]
}