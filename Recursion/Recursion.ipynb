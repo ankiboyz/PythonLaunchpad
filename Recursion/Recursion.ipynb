{
  "nbformat": 4,
  "nbformat_minor": 0,
  "metadata": {
    "colab": {
      "name": "Recursion.ipynb",
      "provenance": [],
      "collapsed_sections": [],
      "toc_visible": true,
      "authorship_tag": "ABX9TyPoYqKpC79gqoofbdkeEzFo",
      "include_colab_link": true
    },
    "kernelspec": {
      "name": "python3",
      "display_name": "Python 3"
    },
    "language_info": {
      "name": "python"
    }
  },
  "cells": [
    {
      "cell_type": "markdown",
      "metadata": {
        "id": "view-in-github",
        "colab_type": "text"
      },
      "source": [
        "<a href=\"https://colab.research.google.com/github/ankiboyz/PythonLaunchpad/blob/main/Recursion/Recursion.ipynb\" target=\"_parent\"><img src=\"https://colab.research.google.com/assets/colab-badge.svg\" alt=\"Open In Colab\"/></a>"
      ]
    },
    {
      "cell_type": "markdown",
      "source": [
        "# Recursion Problems\n",
        "\n",
        "This is a repository of different problems on Recursion. Recursion gives a boost to the grey matter, motivating the brain cells to go deeper and create new patterns of neurons connections as the enforces ways other than usual procedural logic.These are put here to provide a firm foundation of multi-layered logic and swift transition to Hands On Machine Learning using Python.\n",
        "\n",
        "---\n",
        "Author: **Ankur Saxena**\n",
        "*   You Tube:\n",
        "*   Linked In:\n",
        "*   Facebook Group:\n"
      ],
      "metadata": {
        "id": "cw5C200MTJqv"
      }
    },
    {
      "cell_type": "markdown",
      "source": [
        "# Code of Honor:\n",
        "1. Please look into the solution only once you have attempted the question at your end.\n",
        "2. These questions are amalgamation of innumerous hours of self practice put into becoming a great data scientist.The idea here is to share with you the same to help in your journey to greatness; kindly do give these an honest try and look for various ways in which the solution can be made more efficient (time/space complexity wise and/or improvement in the best case / worst case scenarios)"
      ],
      "metadata": {
        "id": "ICr5Ab2kZohV"
      }
    },
    {
      "cell_type": "markdown",
      "source": [
        "## Q1. Write a recursive program to calculate the harmonic sum of the first n numbers.\n",
        "\n",
        "Note: The harmonic sum is the sum of reciprocals of the positive integers. (Round the sum to 3 decimal places)\n",
        "\n",
        "Input Format: n suggesting the integer upto which the reciprocals sum need to be calculated. Output Format: Sum rounded to 3 decimal places is produced.\n",
        "\n",
        "Sample Input-Output:\n",
        "  Input: 7 Output: 2.593"
      ],
      "metadata": {
        "id": "THmz3SyVTJgR"
      }
    },
    {
      "cell_type": "markdown",
      "source": [
        "### Solution(Way#1) to calculate the Harmonic sum of first n numbers.: Please look at the solution only once you have attempted it at your end."
      ],
      "metadata": {
        "id": "D8WjKbh9TJSA"
      }
    },
    {
      "cell_type": "code",
      "execution_count": 10,
      "metadata": {
        "id": "pzsbJIeTTHUK"
      },
      "outputs": [],
      "source": [
        "def harmonic_sum(n):\n",
        "\n",
        "  # Base condition\n",
        "  if n==0 :\n",
        "    return 0\n",
        "  \n",
        "  h_sum = 1/n + harmonic_sum(n-1)\n",
        "\n",
        "  return round(h_sum,3)"
      ]
    },
    {
      "cell_type": "code",
      "source": [
        "# Test cases:\n",
        "test_case_dict = {'1':{'ip' : [7]\n",
        "                      ,'op' : [2.593]}\n",
        "                 ,'2':{'ip' : [0]\n",
        "                       ,'op': [0]\n",
        "                       }\n",
        "                 ,'3':{'ip' : [1]\n",
        "                       ,'op': [1]\n",
        "                       }\n",
        "                 ,'4':{'ip' : [2]\n",
        "                       ,'op': [1.5]\n",
        "                       }\n",
        "                  }\n",
        "for key, value in test_case_dict.items():\n",
        "  print(f\"Executing Test Case#{key} Input: {value['ip'][0]} Expected Output: {value['op'][0]}\")\n",
        "\n",
        "  output = harmonic_sum(value['ip'][0])\n",
        "  print(f\"Actual Output: {output}\")\n",
        "\n",
        "  assert output == value['op'][0], f\"The test case# {key} has failed.\"\n",
        "\n",
        "  print(\"\\n\")\n",
        "\n",
        "print(f\"All {len(test_case_dict)} test cases have passed ...\")\n"
      ],
      "metadata": {
        "colab": {
          "base_uri": "https://localhost:8080/"
        },
        "id": "bMTVCrvkaoAz",
        "outputId": "1487f861-7759-49ec-ac8f-e6d7d8dd595c"
      },
      "execution_count": 11,
      "outputs": [
        {
          "output_type": "stream",
          "name": "stdout",
          "text": [
            "Executing Test Case#1 Input: 7 Expected Output: 2.593\n",
            "Actual Output: 2.593\n",
            "\n",
            "\n",
            "Executing Test Case#2 Input: 0 Expected Output: 0\n",
            "Actual Output: 0\n",
            "\n",
            "\n",
            "Executing Test Case#3 Input: 1 Expected Output: 1\n",
            "Actual Output: 1.0\n",
            "\n",
            "\n",
            "Executing Test Case#4 Input: 2 Expected Output: 1.5\n",
            "Actual Output: 1.5\n",
            "\n",
            "\n",
            "All 4 test cases have passed ...\n"
          ]
        }
      ]
    },
    {
      "cell_type": "markdown",
      "source": [
        "## Q2. You are given a binary sorted number i.e. a binary number where all the 1's come together after all 0's example 3 (0011) or 7 (0111). Count the number of 1's that appear in number and display it, and do so in logn time.\n",
        "\n",
        "Note: If you have not gone through the Time complexity concepts, the logn time complexity hints at dividing the problem space in half example is the merge sort mechanism.\n",
        "\n",
        "Input Format: A binary number is provided in the string format. The start index and end index of the string is also an input to the function.\n",
        "Output Format: Count of 1s in the number is emitted.\n",
        "\n",
        "Sample Input - Output:    \n",
        "\n",
        "*   Input: '0011' Output: 2\n",
        "*   Input: '0111' Output: 3\n"
      ],
      "metadata": {
        "id": "uVM7lj7VFfkK"
      }
    },
    {
      "cell_type": "markdown",
      "source": [
        "### Solution (Way#1) We can work it out in the following way.\n",
        "Approach: Given a number (as a string) and the start and the end index, \n",
        "\n",
        "we can see if the string at the end index is 0 , if it is then we know since it is a sorted string , there are no more 1s and can return 0 as count.\n",
        "\n",
        "Now, if the start is 1, then we know that all the characters in that string are 1 since its sorted and only consists of 0 and 1 , so we retun the lenght of the string as count.\n",
        "\n",
        "And we can do above observations in a repeated fashion diving the string into half at each recursion.\n",
        "\n",
        "Above two conditions are the only guaranteed conditions, having observed 1 at the end cannot ensure how many 1s have we got as some  of the starting characters can be 0; similarly observing 0 at the start cannot ensure how many 1s we have in the string.\n",
        "\n",
        "Using recursion , it would so easy to model the logic that is executed in a repeated pattern until the end conditions are met."
      ],
      "metadata": {
        "id": "IRSLmKtrHM2P"
      }
    },
    {
      "cell_type": "code",
      "source": [
        "def count_of_ones(num, start, end):\n",
        "\n",
        "  if num[end] == '0':\n",
        "    return 0\n",
        "\n",
        "  if num[start] == '1':\n",
        "    return (end - start) + 1\n",
        "\n",
        "  mid = (start + end)//2\n",
        "\n",
        "  count_gathered = count_of_ones(num, start, mid) + count_of_ones(num, mid+1, end)\n",
        "\n",
        "  return count_gathered\n",
        "  "
      ],
      "metadata": {
        "id": "1hObM2DpHLYc"
      },
      "execution_count": 5,
      "outputs": []
    },
    {
      "cell_type": "code",
      "source": [
        "# Test cases:\n",
        "test_case_dict = {'1':{'ip' : ['0011',0,3 ]\n",
        "                      ,'op' : [2]}\n",
        "                 ,'2':{'ip' : ['0111',0,3 ]\n",
        "                       ,'op': [3]\n",
        "                       }\n",
        "                 ,'3':{'ip' : ['1111',0,3 ]\n",
        "                       ,'op': [4]\n",
        "                       }\n",
        "                 ,'4':{'ip' : ['0000',0,3 ]\n",
        "                       ,'op': [0]\n",
        "                       }\n",
        "                  }\n",
        "for key, value in test_case_dict.items():\n",
        "  print(f\"Executing Test Case#{key} Input: {value['ip'][0]}, {value['ip'][1]}, {value['ip'][2]} Expected Output: {value['op'][0]}\")\n",
        "\n",
        "  output = count_of_ones(value['ip'][0], value['ip'][1], value['ip'][2] )\n",
        "  print(f\"Actual Output: {output}\")\n",
        "\n",
        "  assert output == value['op'][0], f\"The test case# {key} has failed.\"\n",
        "\n",
        "  print(\"\\n\")\n",
        "\n",
        "print(f\"All {len(test_case_dict)} test cases have passed ...\")\n"
      ],
      "metadata": {
        "id": "pvdtUsdcKHdn",
        "outputId": "d17ab6c8-7f33-4274-8dcd-9e771eef8017",
        "colab": {
          "base_uri": "https://localhost:8080/"
        }
      },
      "execution_count": 8,
      "outputs": [
        {
          "output_type": "stream",
          "name": "stdout",
          "text": [
            "Executing Test Case#1 Input: 0011, 0, 3 Expected Output: 2\n",
            "Actual Output: 2\n",
            "\n",
            "\n",
            "Executing Test Case#2 Input: 0111, 0, 3 Expected Output: 3\n",
            "Actual Output: 3\n",
            "\n",
            "\n",
            "Executing Test Case#3 Input: 1111, 0, 3 Expected Output: 4\n",
            "Actual Output: 4\n",
            "\n",
            "\n",
            "Executing Test Case#4 Input: 0000, 0, 3 Expected Output: 0\n",
            "Actual Output: 0\n",
            "\n",
            "\n",
            "All 4 test cases have passed ...\n"
          ]
        }
      ]
    },
    {
      "cell_type": "code",
      "source": [
        ""
      ],
      "metadata": {
        "id": "cMAPM10FKyuk"
      },
      "execution_count": null,
      "outputs": []
    }
  ]
}