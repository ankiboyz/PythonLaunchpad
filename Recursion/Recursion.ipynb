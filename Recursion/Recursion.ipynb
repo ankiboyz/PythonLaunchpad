{
  "nbformat": 4,
  "nbformat_minor": 0,
  "metadata": {
    "colab": {
      "name": "Recursion.ipynb",
      "provenance": [],
      "collapsed_sections": [],
      "authorship_tag": "ABX9TyPrMNEiF6hkJVRyZlmL8qSb",
      "include_colab_link": true
    },
    "kernelspec": {
      "name": "python3",
      "display_name": "Python 3"
    },
    "language_info": {
      "name": "python"
    }
  },
  "cells": [
    {
      "cell_type": "markdown",
      "metadata": {
        "id": "view-in-github",
        "colab_type": "text"
      },
      "source": [
        "<a href=\"https://colab.research.google.com/github/ankiboyz/PythonLaunchpad/blob/main/Recursion/Recursion.ipynb\" target=\"_parent\"><img src=\"https://colab.research.google.com/assets/colab-badge.svg\" alt=\"Open In Colab\"/></a>"
      ]
    },
    {
      "cell_type": "markdown",
      "source": [
        "# Recursion Problems\n",
        "\n",
        "This is a repository of different problems on Recursion. Recursion gives a boost to the grey matter, motivating the brain cells to go deeper and create new patterns of neurons connections as the enforces ways other than usual procedural logic.These are put here to provide a firm foundation of multi-layered logic and swift transition to Hands On Machine Learning using Python.\n",
        "\n",
        "---\n",
        "Author: **Ankur Saxena**\n",
        "*   You Tube:\n",
        "*   Linked In:\n",
        "*   Facebook Group:\n"
      ],
      "metadata": {
        "id": "cw5C200MTJqv"
      }
    },
    {
      "cell_type": "markdown",
      "source": [
        "# Code of Honor:\n",
        "1. Please look into the solution only once you have attempted the question at your end.\n",
        "2. These questions are amalgamation of innumerous hours of self practice put into becoming a great data scientist.The idea here is to share with you the same to help in your journey to greatness; kindly do give these an honest try and look for various ways in which the solution can be made more efficient (time/space complexity wise and/or improvement in the best case / worst case scenarios)"
      ],
      "metadata": {
        "id": "ICr5Ab2kZohV"
      }
    },
    {
      "cell_type": "markdown",
      "source": [
        "## Q1. Write a recursive program to calculate the harmonic sum of the first n numbers.\n",
        "\n",
        "Note: The harmonic sum is the sum of reciprocals of the positive integers. (Round the sum to 3 decimal places)\n",
        "\n",
        "Input Format: n suggesting the integer upto which the reciprocals sum need to be calculated. Output Format: Sum rounded to 3 decimal places is produced.\n",
        "\n",
        "Sample Input-Output:\n",
        "  Input: 7 Output: 2.593"
      ],
      "metadata": {
        "id": "THmz3SyVTJgR"
      }
    },
    {
      "cell_type": "markdown",
      "source": [
        "### Solution(Way#1) to calculate the Harmonic sum of first n numbers.: Please look at the solution only once you have attempted it at your end."
      ],
      "metadata": {
        "id": "D8WjKbh9TJSA"
      }
    },
    {
      "cell_type": "code",
      "execution_count": 1,
      "metadata": {
        "id": "pzsbJIeTTHUK"
      },
      "outputs": [],
      "source": [
        "def harmonic_sum(n):\n",
        "\n",
        "  # Base condition\n",
        "  if n==0 :\n",
        "    return 0\n",
        "  \n",
        "  h_sum = 1/n + harmonic_sum(n-1)\n",
        "\n",
        "  return round(h_sum,3)"
      ]
    },
    {
      "cell_type": "code",
      "source": [
        "# Test cases:\n",
        "test_case_dict = {'1':{'ip' : [7]\n",
        "                      ,'op' : [2.593]}\n",
        "                 ,'2':{'ip' : [0]\n",
        "                       ,'op': [0]\n",
        "                       }\n",
        "                 ,'3':{'ip' : [1]\n",
        "                       ,'op': [1]\n",
        "                       }\n",
        "                 ,'4':{'ip' : [2]\n",
        "                       ,'op': [1.5]\n",
        "                       }\n",
        "                  }\n",
        "for key, value in test_case_dict.items():\n",
        "  print(f\"Executing Test Case {key} Input: {value['ip'][0]} Expected Output: {value['op'][0]}\")\n",
        "\n",
        "  output = harmonic_sum(value['ip'][0])\n",
        "  print(f\"Actual Output: {output}\")\n",
        "\n",
        "  assert output == value['op'][0], f\"The test case# {key} has failed.\"\n",
        "\n",
        "  print(\"\\n\")\n",
        "\n",
        "print(f\"All {len(test_case_dict)} test cases have passed ...\")\n"
      ],
      "metadata": {
        "colab": {
          "base_uri": "https://localhost:8080/"
        },
        "id": "bMTVCrvkaoAz",
        "outputId": "e2e59e87-d372-496e-b2ff-9e6ae722608f"
      },
      "execution_count": 3,
      "outputs": [
        {
          "output_type": "stream",
          "name": "stdout",
          "text": [
            "Executing Test Case 1 Input: 7 Expected Output: 2.593\n",
            "Actual Output: 2.593\n",
            "\n",
            "\n",
            "Executing Test Case 2 Input: 0 Expected Output: 0\n",
            "Actual Output: 0\n",
            "\n",
            "\n",
            "Executing Test Case 3 Input: 1 Expected Output: 1\n",
            "Actual Output: 1.0\n",
            "\n",
            "\n",
            "Executing Test Case 4 Input: 2 Expected Output: 1.5\n",
            "Actual Output: 1.5\n",
            "\n",
            "\n",
            "All 4 test cases have passed ...\n"
          ]
        }
      ]
    },
    {
      "cell_type": "code",
      "source": [
        ""
      ],
      "metadata": {
        "id": "tsykzjACbEu1"
      },
      "execution_count": null,
      "outputs": []
    }
  ]
}